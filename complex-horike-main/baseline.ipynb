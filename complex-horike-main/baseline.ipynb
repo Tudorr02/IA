{
  "cells": [
    {
      "cell_type": "markdown",
      "metadata": {
        "id": "IOHhX8EO-He1"
      },
      "source": [
        "# Predicția complexității cuvintelor - Învățare statistică\n",
        "\n",
        "Complexitatea unui cuvânt este un criteriu subiectiv și depinde de mulți factori de la cât de des este întâlnit în vorbire acel cuvânt, cât de lung sau greu de citit este, dacă este un termen specializat, forma morfologică, până la funcția cuvântului în sintaxa propoziției. Pe baza acestor idei putem să ne definim niște funcții care să extragă caracterisitici.\n",
        "\n",
        "\n",
        "Aveți voie cu următoarele resurse externe, cu condiția să primiți aprobare de la Sergiu (aprobările se dau individual):\n",
        "- liste de cuvinte adiționale, [MRC Psycholinguistic Database](https://websites.psychology.uwa.edu.au/school/MRCDatabase/uwa_mrc.htm) conține informații privitoare la cuvinte sau lista [Dale-Chall](https://readabilityformulas.com/word-lists/the-dale-chall-word-list-for-readability-formulas/)\n",
        "- seturi de date de text adiționale din care să extrageți frecvențe, de exemplu [AOCHILDES](https://github.com/UIUCLearningLanguageLab/AOCHILDES) conține ”child-directed speech transcripts, ordered by the age of the target child” pentru engleză iar Task-ul [BabyLM](https://babylm.github.io/) are ca scop antrenarea de LLM cu texte care pot fi plauzibile în dezvoltarea copiilor\n",
        "- biblioteci sau API care să comunice cu [WordNet](http://wordnetweb.princeton.edu/perl/webwn?s=dog) sau [ConceptNet](https://conceptnet.io/)\n",
        "- algoritmi traducere automată (ideal ar fi să ruleze local)\n",
        "- rețele pre-antrenate de tip BERT, RoBERTa, XLM-RoBERTa (obligatoriu trebuie să ruleze local) din care să scoateți vectori de activări sau valori interne, word embeddings\n",
        "- LLMs care obligatoriu trebuie să ruleze local din care puteți scoate vectori de activări sau valori interne din rețea\n",
        "\n",
        "\n",
        "**Nu aveți voie cu:**\n",
        "- API-uri externe\n",
        "- extragerea scorurilor de complexitate prin parsarea unor prompturi rezultate din LLM, din LLM aveți voie doar cu valori interne ale vectorilor\n",
        "\n",
        "\n",
        "## Sugestii de caracteristici\n",
        "\n",
        "- frecvența cuvântului într-un corpus foarte mare - aici putem folosi biblioteca wordfreq, dar ideal să implementați o funcție care extrage cuvintele frecvente dintr-un corpus arbitrar\n",
        "- lungimea cuvantului\n",
        "- nr de silabe\n",
        "- nr de vocale (aici sunt si semivocale, fara diftongi)\n",
        "- daca e titlu sau entitate\n",
        "- nr de synsets din WordNet\n",
        "- nr de hypernime (colour is a hypernym of red)\n",
        "- nr de hyponime (spoon is a hyponym of cutlery)\n",
        "- word embedding din spacy\n",
        "- nr de relații în arborele de sintaxă al propoziției\n",
        "- cuvinte și părți de vorbire din context"
      ]
    },
    {
      "cell_type": "markdown",
      "metadata": {
        "id": "KyNNqhnu-He7"
      },
      "source": [
        "## Get data\n",
        "\n",
        "- comment data download if running on kaggle"
      ]
    },
    {
      "cell_type": "code",
      "execution_count": 2,
      "metadata": {
        "colab": {
          "base_uri": "https://localhost:8080/"
        },
        "id": "7tDjl2Sv-He8",
        "outputId": "064311f4-aba9-4d35-dd0e-eb58fe2b053a"
      },
      "outputs": [
        {
          "name": "stderr",
          "output_type": "stream",
          "text": [
            "The syntax of the command is incorrect.\n",
            "'wget' is not recognized as an internal or external command,\n",
            "operable program or batch file.\n"
          ]
        }
      ],
      "source": [
        "! mkdir -p ../input/predictia-complexitatii-cuvintelor\n",
        "! cd ../input/predictia-complexitatii-cuvintelor && wget https://github.com/curs-ia-2024/proiect/releases/download/data/train.csv && wget https://github.com/curs-ia-2024/proiect/releases/download/data/test.csv"
      ]
    },
    {
      "cell_type": "markdown",
      "metadata": {
        "id": "zkrl9XdX-He9"
      },
      "source": [
        "## Load Data, Make a Random Submission"
      ]
    },
    {
      "cell_type": "code",
      "execution_count": 3,
      "metadata": {
        "_cell_guid": "b1076dfc-b9ad-4769-8c92-a6c4dae69d19",
        "_uuid": "8f2839f25d086af736a60e9eeb907d3b93b6e0e5",
        "colab": {
          "base_uri": "https://localhost:8080/"
        },
        "id": "6KRn--us-He-",
        "outputId": "1b3cc7e6-11a6-4e4a-8bdb-d2bbfd789e12"
      },
      "outputs": [
        {
          "name": "stdout",
          "output_type": "stream",
          "text": [
            "../input\\predictia-complexitatii-cuvintelor\\test.csv\n",
            "../input\\predictia-complexitatii-cuvintelor\\train.csv\n"
          ]
        }
      ],
      "source": [
        "\n",
        "# This Python 3 environment comes with many helpful analytics libraries installed\n",
        "# It is defined by the kaggle/python Docker image: https://github.com/kaggle/docker-python\n",
        "# For example, here's several helpful packages to load\n",
        "\n",
        "\n",
        "import numpy as np # linear algebra\n",
        "import pandas as pd # data processing, CSV file I/O (e.g. pd.read_csv)\n",
        "\n",
        "# Input data files are available in the read-only \"../input/\" directory\n",
        "# For example, running this (by clicking run or pressing Shift+Enter) will list all files under the input directory\n",
        "\n",
        "import os\n",
        "for dirname, _, filenames in os.walk('../input'):\n",
        "    for filename in filenames:\n",
        "        print(os.path.join(dirname, filename))\n",
        "\n",
        "# You can write up to 20GB to the current directory (/kaggle/working/) that gets preserved as output when you create a version using \"Save & Run All\"\n",
        "# You can also write temporary files to /kaggle/temp/, but they won't be saved outside of the current session"
      ]
    },
    {
      "cell_type": "code",
      "execution_count": 4,
      "metadata": {
        "colab": {
          "base_uri": "https://localhost:8080/"
        },
        "id": "rPi39Qcp-He_",
        "outputId": "2cf5fd2d-9122-4382-8f35-a7f6e816ab39"
      },
      "outputs": [
        {
          "name": "stderr",
          "output_type": "stream",
          "text": [
            "'pwd' is not recognized as an internal or external command,\n",
            "operable program or batch file.\n"
          ]
        }
      ],
      "source": [
        "! pwd"
      ]
    },
    {
      "cell_type": "code",
      "execution_count": 5,
      "metadata": {
        "execution": {
          "iopub.execute_input": "2024-05-13T07:38:27.590988Z",
          "iopub.status.busy": "2024-05-13T07:38:27.590579Z",
          "iopub.status.idle": "2024-05-13T07:38:27.632733Z",
          "shell.execute_reply": "2024-05-13T07:38:27.631719Z",
          "shell.execute_reply.started": "2024-05-13T07:38:27.590950Z"
        },
        "id": "AP7AEiDT-HfA"
      },
      "outputs": [],
      "source": [
        "import os\n",
        "BASE_DIR = '../input/predictia-complexitatii-cuvintelor'\n",
        "TRAIN_PATH = os.path.join(BASE_DIR, 'train.csv')\n",
        "TEST_PATH = os.path.join(BASE_DIR, 'test.csv')"
      ]
    },
    {
      "cell_type": "code",
      "execution_count": 6,
      "metadata": {
        "colab": {
          "base_uri": "https://localhost:8080/",
          "height": 424
        },
        "execution": {
          "iopub.execute_input": "2024-05-13T07:38:30.955485Z",
          "iopub.status.busy": "2024-05-13T07:38:30.955057Z",
          "iopub.status.idle": "2024-05-13T07:38:31.548459Z",
          "shell.execute_reply": "2024-05-13T07:38:31.546903Z",
          "shell.execute_reply.started": "2024-05-13T07:38:30.955451Z"
        },
        "id": "kt437Lq1-HfC",
        "outputId": "052221ec-ef42-4663-cb4c-2d76c6b3a0c1"
      },
      "outputs": [
        {
          "data": {
            "text/html": [
              "<div>\n",
              "<style scoped>\n",
              "    .dataframe tbody tr th:only-of-type {\n",
              "        vertical-align: middle;\n",
              "    }\n",
              "\n",
              "    .dataframe tbody tr th {\n",
              "        vertical-align: top;\n",
              "    }\n",
              "\n",
              "    .dataframe thead th {\n",
              "        text-align: right;\n",
              "    }\n",
              "</style>\n",
              "<table border=\"1\" class=\"dataframe\">\n",
              "  <thead>\n",
              "    <tr style=\"text-align: right;\">\n",
              "      <th></th>\n",
              "      <th>cur_id</th>\n",
              "      <th>language</th>\n",
              "      <th>sentence</th>\n",
              "      <th>word</th>\n",
              "      <th>complexity</th>\n",
              "    </tr>\n",
              "  </thead>\n",
              "  <tbody>\n",
              "    <tr>\n",
              "      <th>0</th>\n",
              "      <td>0</td>\n",
              "      <td>english</td>\n",
              "      <td>Behold, there came up out of the river seven c...</td>\n",
              "      <td>river</td>\n",
              "      <td>0.000000</td>\n",
              "    </tr>\n",
              "    <tr>\n",
              "      <th>1</th>\n",
              "      <td>1</td>\n",
              "      <td>english</td>\n",
              "      <td>I am a fellow bondservant with you and with yo...</td>\n",
              "      <td>brothers</td>\n",
              "      <td>0.000000</td>\n",
              "    </tr>\n",
              "    <tr>\n",
              "      <th>2</th>\n",
              "      <td>2</td>\n",
              "      <td>english</td>\n",
              "      <td>The man, the lord of the land, said to us, 'By...</td>\n",
              "      <td>brothers</td>\n",
              "      <td>0.050000</td>\n",
              "    </tr>\n",
              "    <tr>\n",
              "      <th>3</th>\n",
              "      <td>3</td>\n",
              "      <td>english</td>\n",
              "      <td>Shimei had sixteen sons and six daughters; but...</td>\n",
              "      <td>brothers</td>\n",
              "      <td>0.150000</td>\n",
              "    </tr>\n",
              "    <tr>\n",
              "      <th>4</th>\n",
              "      <td>4</td>\n",
              "      <td>english</td>\n",
              "      <td>Moreover Yahweh will deliver Israel also with ...</td>\n",
              "      <td>sons</td>\n",
              "      <td>0.160714</td>\n",
              "    </tr>\n",
              "    <tr>\n",
              "      <th>...</th>\n",
              "      <td>...</td>\n",
              "      <td>...</td>\n",
              "      <td>...</td>\n",
              "      <td>...</td>\n",
              "      <td>...</td>\n",
              "    </tr>\n",
              "    <tr>\n",
              "      <th>8628</th>\n",
              "      <td>8628</td>\n",
              "      <td>spanish</td>\n",
              "      <td>Pueden estar colmados de desbarajustes y el bi...</td>\n",
              "      <td>colmados</td>\n",
              "      <td>0.675000</td>\n",
              "    </tr>\n",
              "    <tr>\n",
              "      <th>8629</th>\n",
              "      <td>8629</td>\n",
              "      <td>spanish</td>\n",
              "      <td>Pueden estar colmados de desbarajustes y el bi...</td>\n",
              "      <td>desbarajustes</td>\n",
              "      <td>0.800000</td>\n",
              "    </tr>\n",
              "    <tr>\n",
              "      <th>8630</th>\n",
              "      <td>8630</td>\n",
              "      <td>spanish</td>\n",
              "      <td>Y le va a presentar algunos retos personales p...</td>\n",
              "      <td>esperaría</td>\n",
              "      <td>0.200000</td>\n",
              "    </tr>\n",
              "    <tr>\n",
              "      <th>8631</th>\n",
              "      <td>8631</td>\n",
              "      <td>spanish</td>\n",
              "      <td>Y le va a presentar algunos retos personales p...</td>\n",
              "      <td>retos</td>\n",
              "      <td>0.450000</td>\n",
              "    </tr>\n",
              "    <tr>\n",
              "      <th>8632</th>\n",
              "      <td>8632</td>\n",
              "      <td>spanish</td>\n",
              "      <td>Y le va a presentar algunos retos personales p...</td>\n",
              "      <td>lúgubre</td>\n",
              "      <td>0.675000</td>\n",
              "    </tr>\n",
              "  </tbody>\n",
              "</table>\n",
              "<p>8633 rows × 5 columns</p>\n",
              "</div>"
            ],
            "text/plain": [
              "      cur_id language                                           sentence  \\\n",
              "0          0  english  Behold, there came up out of the river seven c...   \n",
              "1          1  english  I am a fellow bondservant with you and with yo...   \n",
              "2          2  english  The man, the lord of the land, said to us, 'By...   \n",
              "3          3  english  Shimei had sixteen sons and six daughters; but...   \n",
              "4          4  english  Moreover Yahweh will deliver Israel also with ...   \n",
              "...      ...      ...                                                ...   \n",
              "8628    8628  spanish  Pueden estar colmados de desbarajustes y el bi...   \n",
              "8629    8629  spanish  Pueden estar colmados de desbarajustes y el bi...   \n",
              "8630    8630  spanish  Y le va a presentar algunos retos personales p...   \n",
              "8631    8631  spanish  Y le va a presentar algunos retos personales p...   \n",
              "8632    8632  spanish  Y le va a presentar algunos retos personales p...   \n",
              "\n",
              "               word  complexity  \n",
              "0             river    0.000000  \n",
              "1          brothers    0.000000  \n",
              "2          brothers    0.050000  \n",
              "3          brothers    0.150000  \n",
              "4              sons    0.160714  \n",
              "...             ...         ...  \n",
              "8628       colmados    0.675000  \n",
              "8629  desbarajustes    0.800000  \n",
              "8630      esperaría    0.200000  \n",
              "8631          retos    0.450000  \n",
              "8632        lúgubre    0.675000  \n",
              "\n",
              "[8633 rows x 5 columns]"
            ]
          },
          "execution_count": 6,
          "metadata": {},
          "output_type": "execute_result"
        }
      ],
      "source": [
        "import pandas as pd\n",
        "\n",
        "train = pd.read_csv(TRAIN_PATH)\n",
        "train"
      ]
    },
    {
      "cell_type": "code",
      "execution_count": 7,
      "metadata": {
        "cellView": "form",
        "colab": {
          "base_uri": "https://localhost:8080/",
          "height": 452
        },
        "id": "ndGuTKT4-RC_",
        "outputId": "fb73cf93-fa6f-4891-f48e-42bbacd1759a"
      },
      "outputs": [
        {
          "data": {
            "image/png": "[encoded data removed]",
            "text/plain": [
              "<Figure size 640x480 with 1 Axes>"
            ]
          },
          "metadata": {},
          "output_type": "display_data"
        }
      ],
      "source": [
        "# @title complexity\n",
        "\n",
        "from matplotlib import pyplot as plt\n",
        "train['complexity'].plot(kind='hist', bins=20, title='complexity')\n",
        "plt.gca().spines[['top', 'right',]].set_visible(False)"
      ]
    },
    {
      "cell_type": "code",
      "execution_count": 8,
      "metadata": {
        "colab": {
          "base_uri": "https://localhost:8080/",
          "height": 424
        },
        "execution": {
          "iopub.execute_input": "2024-05-13T07:38:34.285963Z",
          "iopub.status.busy": "2024-05-13T07:38:34.285552Z",
          "iopub.status.idle": "2024-05-13T07:38:34.356566Z",
          "shell.execute_reply": "2024-05-13T07:38:34.354845Z",
          "shell.execute_reply.started": "2024-05-13T07:38:34.285931Z"
        },
        "id": "VwGiL9i9-HfD",
        "outputId": "043c33af-761d-49eb-f40e-aa9c22937955"
      },
      "outputs": [
        {
          "data": {
            "text/html": [
              "<div>\n",
              "<style scoped>\n",
              "    .dataframe tbody tr th:only-of-type {\n",
              "        vertical-align: middle;\n",
              "    }\n",
              "\n",
              "    .dataframe tbody tr th {\n",
              "        vertical-align: top;\n",
              "    }\n",
              "\n",
              "    .dataframe thead th {\n",
              "        text-align: right;\n",
              "    }\n",
              "</style>\n",
              "<table border=\"1\" class=\"dataframe\">\n",
              "  <thead>\n",
              "    <tr style=\"text-align: right;\">\n",
              "      <th></th>\n",
              "      <th>cur_id</th>\n",
              "      <th>language</th>\n",
              "      <th>sentence</th>\n",
              "      <th>word</th>\n",
              "    </tr>\n",
              "  </thead>\n",
              "  <tbody>\n",
              "    <tr>\n",
              "      <th>0</th>\n",
              "      <td>8633</td>\n",
              "      <td>catalan</td>\n",
              "      <td>En el que han coincidit tots els presents és q...</td>\n",
              "      <td>coincidit</td>\n",
              "    </tr>\n",
              "    <tr>\n",
              "      <th>1</th>\n",
              "      <td>8634</td>\n",
              "      <td>catalan</td>\n",
              "      <td>Serà molt més fàcil poder-nos comunicar, ha ce...</td>\n",
              "      <td>auditiva</td>\n",
              "    </tr>\n",
              "    <tr>\n",
              "      <th>2</th>\n",
              "      <td>8635</td>\n",
              "      <td>catalan</td>\n",
              "      <td>El Síndic de Greuges, Rafael Ribó, ha reclamat...</td>\n",
              "      <td>segregació</td>\n",
              "    </tr>\n",
              "    <tr>\n",
              "      <th>3</th>\n",
              "      <td>8636</td>\n",
              "      <td>catalan</td>\n",
              "      <td>També demana elaborar materials didàctics per ...</td>\n",
              "      <td>controvertits</td>\n",
              "    </tr>\n",
              "    <tr>\n",
              "      <th>4</th>\n",
              "      <td>8637</td>\n",
              "      <td>catalan</td>\n",
              "      <td>Una quinzena de joves han clavat enganxines on...</td>\n",
              "      <td>enganxines</td>\n",
              "    </tr>\n",
              "    <tr>\n",
              "      <th>...</th>\n",
              "      <td>...</td>\n",
              "      <td>...</td>\n",
              "      <td>...</td>\n",
              "      <td>...</td>\n",
              "    </tr>\n",
              "    <tr>\n",
              "      <th>5618</th>\n",
              "      <td>14251</td>\n",
              "      <td>spanish</td>\n",
              "      <td>La función de concentración de recursos, tiene...</td>\n",
              "      <td>concentración</td>\n",
              "    </tr>\n",
              "    <tr>\n",
              "      <th>5619</th>\n",
              "      <td>14252</td>\n",
              "      <td>spanish</td>\n",
              "      <td>Después surgió la moneda y posteriormente surg...</td>\n",
              "      <td>intercambios</td>\n",
              "    </tr>\n",
              "    <tr>\n",
              "      <th>5620</th>\n",
              "      <td>14253</td>\n",
              "      <td>spanish</td>\n",
              "      <td>A éstos se les coloca una fecha posterior al m...</td>\n",
              "      <td>suficientes</td>\n",
              "    </tr>\n",
              "    <tr>\n",
              "      <th>5621</th>\n",
              "      <td>14254</td>\n",
              "      <td>spanish</td>\n",
              "      <td>Colisión: Choque de dos cuerpos. Oposición y p...</td>\n",
              "      <td>ahorro</td>\n",
              "    </tr>\n",
              "    <tr>\n",
              "      <th>5622</th>\n",
              "      <td>14255</td>\n",
              "      <td>spanish</td>\n",
              "      <td>La corrupción, en tanto, es lo opuesto a la ho...</td>\n",
              "      <td>soborno</td>\n",
              "    </tr>\n",
              "  </tbody>\n",
              "</table>\n",
              "<p>5623 rows × 4 columns</p>\n",
              "</div>"
            ],
            "text/plain": [
              "      cur_id language                                           sentence  \\\n",
              "0       8633  catalan  En el que han coincidit tots els presents és q...   \n",
              "1       8634  catalan  Serà molt més fàcil poder-nos comunicar, ha ce...   \n",
              "2       8635  catalan  El Síndic de Greuges, Rafael Ribó, ha reclamat...   \n",
              "3       8636  catalan  També demana elaborar materials didàctics per ...   \n",
              "4       8637  catalan  Una quinzena de joves han clavat enganxines on...   \n",
              "...      ...      ...                                                ...   \n",
              "5618   14251  spanish  La función de concentración de recursos, tiene...   \n",
              "5619   14252  spanish  Después surgió la moneda y posteriormente surg...   \n",
              "5620   14253  spanish  A éstos se les coloca una fecha posterior al m...   \n",
              "5621   14254  spanish  Colisión: Choque de dos cuerpos. Oposición y p...   \n",
              "5622   14255  spanish  La corrupción, en tanto, es lo opuesto a la ho...   \n",
              "\n",
              "               word  \n",
              "0         coincidit  \n",
              "1          auditiva  \n",
              "2        segregació  \n",
              "3     controvertits  \n",
              "4        enganxines  \n",
              "...             ...  \n",
              "5618  concentración  \n",
              "5619   intercambios  \n",
              "5620    suficientes  \n",
              "5621         ahorro  \n",
              "5622        soborno  \n",
              "\n",
              "[5623 rows x 4 columns]"
            ]
          },
          "execution_count": 8,
          "metadata": {},
          "output_type": "execute_result"
        }
      ],
      "source": [
        "test = pd.read_csv(TEST_PATH)\n",
        "test"
      ]
    },
    {
      "cell_type": "code",
      "execution_count": 9,
      "metadata": {
        "id": "wpESHfK5-HfF"
      },
      "outputs": [],
      "source": [
        "import numpy as np\n",
        "import pandas as pd\n",
        "\n",
        "random_values = np.random.uniform(0, 1, len(test))\n",
        "random_submission = pd.DataFrame({'cur_id': test.cur_id.values, 'complexity': random_values})\n",
        "random_submission.to_csv('submission.csv', index=False)"
      ]
    },
    {
      "cell_type": "markdown",
      "metadata": {
        "id": "aI00K7iF-HfG"
      },
      "source": [
        "## Exploratory Data Analysis"
      ]
    },
    {
      "cell_type": "code",
      "execution_count": 10,
      "metadata": {
        "id": "pgcChZa6-HfH"
      },
      "outputs": [],
      "source": [
        "import plotly.express as px\n",
        "import pandas as pd\n",
        "\n",
        "def plot_hist(df, criterion='language'):\n",
        "    fig = px.histogram(df, x='complexity', color=criterion, marginal='rug', nbins=20, barmode='overlay',\n",
        "                       title=f'Density Plot of Complexity by {criterion}',\n",
        "                       labels={'complexity': 'Complexity', criterion: 'Language', 'count': 'Density'})\n",
        "    fig.show()"
      ]
    },
    {
      "cell_type": "code",
      "execution_count": 11,
      "metadata": {
        "colab": {
          "base_uri": "https://localhost:8080/",
          "height": 394
        },
        "id": "Ded3AnW7-HfI",
        "outputId": "133489bb-5073-4ca7-be98-4a34e276dfbf"
      },
      "outputs": [
        {
          "data": {
            "text/html": [
              "<div>\n",
              "<style scoped>\n",
              "    .dataframe tbody tr th:only-of-type {\n",
              "        vertical-align: middle;\n",
              "    }\n",
              "\n",
              "    .dataframe tbody tr th {\n",
              "        vertical-align: top;\n",
              "    }\n",
              "\n",
              "    .dataframe thead th {\n",
              "        text-align: right;\n",
              "    }\n",
              "</style>\n",
              "<table border=\"1\" class=\"dataframe\">\n",
              "  <thead>\n",
              "    <tr style=\"text-align: right;\">\n",
              "      <th></th>\n",
              "      <th>count</th>\n",
              "      <th>mean</th>\n",
              "      <th>std</th>\n",
              "      <th>min</th>\n",
              "      <th>25%</th>\n",
              "      <th>50%</th>\n",
              "      <th>75%</th>\n",
              "      <th>max</th>\n",
              "    </tr>\n",
              "    <tr>\n",
              "      <th>language</th>\n",
              "      <th></th>\n",
              "      <th></th>\n",
              "      <th></th>\n",
              "      <th></th>\n",
              "      <th></th>\n",
              "      <th></th>\n",
              "      <th></th>\n",
              "      <th></th>\n",
              "    </tr>\n",
              "  </thead>\n",
              "  <tbody>\n",
              "    <tr>\n",
              "      <th>catalan</th>\n",
              "      <td>30.0</td>\n",
              "      <td>0.486667</td>\n",
              "      <td>0.125212</td>\n",
              "      <td>0.175</td>\n",
              "      <td>0.425000</td>\n",
              "      <td>0.475000</td>\n",
              "      <td>0.600000</td>\n",
              "      <td>0.700000</td>\n",
              "    </tr>\n",
              "    <tr>\n",
              "      <th>english</th>\n",
              "      <td>8363.0</td>\n",
              "      <td>0.301132</td>\n",
              "      <td>0.133718</td>\n",
              "      <td>0.000</td>\n",
              "      <td>0.210526</td>\n",
              "      <td>0.277778</td>\n",
              "      <td>0.368421</td>\n",
              "      <td>0.931818</td>\n",
              "    </tr>\n",
              "    <tr>\n",
              "      <th>filipino</th>\n",
              "      <td>30.0</td>\n",
              "      <td>0.170833</td>\n",
              "      <td>0.125959</td>\n",
              "      <td>0.025</td>\n",
              "      <td>0.050000</td>\n",
              "      <td>0.150000</td>\n",
              "      <td>0.250000</td>\n",
              "      <td>0.475000</td>\n",
              "    </tr>\n",
              "    <tr>\n",
              "      <th>french</th>\n",
              "      <td>30.0</td>\n",
              "      <td>0.370833</td>\n",
              "      <td>0.229231</td>\n",
              "      <td>0.000</td>\n",
              "      <td>0.168750</td>\n",
              "      <td>0.350000</td>\n",
              "      <td>0.525000</td>\n",
              "      <td>0.800000</td>\n",
              "    </tr>\n",
              "    <tr>\n",
              "      <th>german</th>\n",
              "      <td>30.0</td>\n",
              "      <td>0.413333</td>\n",
              "      <td>0.191042</td>\n",
              "      <td>0.150</td>\n",
              "      <td>0.256250</td>\n",
              "      <td>0.362500</td>\n",
              "      <td>0.550000</td>\n",
              "      <td>0.875000</td>\n",
              "    </tr>\n",
              "    <tr>\n",
              "      <th>italian</th>\n",
              "      <td>30.0</td>\n",
              "      <td>0.247667</td>\n",
              "      <td>0.168189</td>\n",
              "      <td>0.030</td>\n",
              "      <td>0.085000</td>\n",
              "      <td>0.235000</td>\n",
              "      <td>0.417500</td>\n",
              "      <td>0.520000</td>\n",
              "    </tr>\n",
              "    <tr>\n",
              "      <th>japanese</th>\n",
              "      <td>30.0</td>\n",
              "      <td>0.259333</td>\n",
              "      <td>0.173044</td>\n",
              "      <td>0.020</td>\n",
              "      <td>0.090000</td>\n",
              "      <td>0.270000</td>\n",
              "      <td>0.380000</td>\n",
              "      <td>0.620000</td>\n",
              "    </tr>\n",
              "    <tr>\n",
              "      <th>portuguese</th>\n",
              "      <td>30.0</td>\n",
              "      <td>0.273000</td>\n",
              "      <td>0.164572</td>\n",
              "      <td>0.060</td>\n",
              "      <td>0.130000</td>\n",
              "      <td>0.245000</td>\n",
              "      <td>0.380000</td>\n",
              "      <td>0.580000</td>\n",
              "    </tr>\n",
              "    <tr>\n",
              "      <th>sinhala</th>\n",
              "      <td>30.0</td>\n",
              "      <td>0.243333</td>\n",
              "      <td>0.213966</td>\n",
              "      <td>0.050</td>\n",
              "      <td>0.090000</td>\n",
              "      <td>0.170000</td>\n",
              "      <td>0.327500</td>\n",
              "      <td>0.910000</td>\n",
              "    </tr>\n",
              "    <tr>\n",
              "      <th>spanish</th>\n",
              "      <td>30.0</td>\n",
              "      <td>0.449167</td>\n",
              "      <td>0.233460</td>\n",
              "      <td>0.075</td>\n",
              "      <td>0.231250</td>\n",
              "      <td>0.450000</td>\n",
              "      <td>0.668750</td>\n",
              "      <td>0.875000</td>\n",
              "    </tr>\n",
              "  </tbody>\n",
              "</table>\n",
              "</div>"
            ],
            "text/plain": [
              "             count      mean       std    min       25%       50%       75%  \\\n",
              "language                                                                      \n",
              "catalan       30.0  0.486667  0.125212  0.175  0.425000  0.475000  0.600000   \n",
              "english     8363.0  0.301132  0.133718  0.000  0.210526  0.277778  0.368421   \n",
              "filipino      30.0  0.170833  0.125959  0.025  0.050000  0.150000  0.250000   \n",
              "french        30.0  0.370833  0.229231  0.000  0.168750  0.350000  0.525000   \n",
              "german        30.0  0.413333  0.191042  0.150  0.256250  0.362500  0.550000   \n",
              "italian       30.0  0.247667  0.168189  0.030  0.085000  0.235000  0.417500   \n",
              "japanese      30.0  0.259333  0.173044  0.020  0.090000  0.270000  0.380000   \n",
              "portuguese    30.0  0.273000  0.164572  0.060  0.130000  0.245000  0.380000   \n",
              "sinhala       30.0  0.243333  0.213966  0.050  0.090000  0.170000  0.327500   \n",
              "spanish       30.0  0.449167  0.233460  0.075  0.231250  0.450000  0.668750   \n",
              "\n",
              "                 max  \n",
              "language              \n",
              "catalan     0.700000  \n",
              "english     0.931818  \n",
              "filipino    0.475000  \n",
              "french      0.800000  \n",
              "german      0.875000  \n",
              "italian     0.520000  \n",
              "japanese    0.620000  \n",
              "portuguese  0.580000  \n",
              "sinhala     0.910000  \n",
              "spanish     0.875000  "
            ]
          },
          "execution_count": 11,
          "metadata": {},
          "output_type": "execute_result"
        }
      ],
      "source": [
        "train.groupby('language')['complexity'].describe()"
      ]
    },
    {
      "cell_type": "code",
      "execution_count": 12,
      "metadata": {
        "colab": {
          "base_uri": "https://localhost:8080/"
        },
        "id": "hKn7mbx6-HfI",
        "outputId": "fcc87cab-d1ec-4230-b2ef-2ebe3b9fcb39"
      },
      "outputs": [
        {
          "data": {
            "text/plain": [
              "language\n",
              "catalan       445\n",
              "english       570\n",
              "filipino      570\n",
              "french        568\n",
              "german        570\n",
              "italian       570\n",
              "japanese      570\n",
              "portuguese    567\n",
              "sinhala       600\n",
              "spanish       593\n",
              "Name: sentence, dtype: int64"
            ]
          },
          "execution_count": 12,
          "metadata": {},
          "output_type": "execute_result"
        }
      ],
      "source": [
        "test.groupby('language')['sentence'].count()"
      ]
    },
    {
      "cell_type": "code",
      "execution_count": 13,
      "metadata": {
        "colab": {
          "base_uri": "https://localhost:8080/"
        },
        "id": "VsjnZ0Vc-HfJ",
        "outputId": "1d569894-0406-49b0-c050-43487f97de86"
      },
      "outputs": [
        {
          "data": {
            "text/plain": [
              "(8363, 5)"
            ]
          },
          "execution_count": 13,
          "metadata": {},
          "output_type": "execute_result"
        }
      ],
      "source": [
        "train[train.language == 'english'].shape"
      ]
    },
    {
      "cell_type": "code",
      "execution_count": 14,
      "metadata": {
        "colab": {
          "base_uri": "https://localhost:8080/"
        },
        "id": "ZlJG_rxm-HfJ",
        "outputId": "b97bfef5-b43f-473d-b3ed-c2a85e3944ce"
      },
      "outputs": [
        {
          "data": {
            "text/plain": [
              "(570, 4)"
            ]
          },
          "execution_count": 14,
          "metadata": {},
          "output_type": "execute_result"
        }
      ],
      "source": [
        "test[test.language == 'english'].shape"
      ]
    },
    {
      "cell_type": "code",
      "execution_count": 15,
      "metadata": {
        "colab": {
          "base_uri": "https://localhost:8080/"
        },
        "id": "GIjs-Wld-HfK",
        "outputId": "3e4e9ffb-5913-4897-c931-092a44a34712"
      },
      "outputs": [
        {
          "name": "stderr",
          "output_type": "stream",
          "text": [
            "[nltk_data] Downloading package punkt to\n",
            "[nltk_data]     C:\\Users\\ilieo\\AppData\\Roaming\\nltk_data...\n",
            "[nltk_data]   Package punkt is already up-to-date!\n"
          ]
        },
        {
          "data": {
            "text/plain": [
              "['Y',\n",
              " 'le',\n",
              " 'va',\n",
              " 'a',\n",
              " 'presentar',\n",
              " 'algunos',\n",
              " 'retos',\n",
              " 'personales',\n",
              " 'pero',\n",
              " 'no',\n",
              " 'es',\n",
              " 'ese',\n",
              " 'escenario',\n",
              " 'lúgubre',\n",
              " 'que',\n",
              " 'tal',\n",
              " 'vez',\n",
              " 'esperaría',\n",
              " '.']"
            ]
          },
          "execution_count": 15,
          "metadata": {},
          "output_type": "execute_result"
        }
      ],
      "source": [
        "import nltk\n",
        "\n",
        "\n",
        "nltk.download('punkt')\n",
        "\n",
        "def tokenize(text):\n",
        "    return nltk.tokenize.word_tokenize(text)\n",
        "\n",
        "tokenize(train.iloc[-1].sentence)"
      ]
    },
    {
      "cell_type": "code",
      "execution_count": 16,
      "metadata": {
        "colab": {
          "base_uri": "https://localhost:8080/"
        },
        "id": "_LRTc7Uq-HfK",
        "outputId": "81f7a0f4-9f64-4179-b2c3-a61678a59e36"
      },
      "outputs": [
        {
          "name": "stderr",
          "output_type": "stream",
          "text": [
            "100%|██████████| 8633/8633 [00:01<00:00, 6275.34it/s]\n",
            "100%|██████████| 5623/5623 [00:00<00:00, 6648.71it/s]\n"
          ]
        }
      ],
      "source": [
        "from tqdm import tqdm\n",
        "from collections import Counter\n",
        "\n",
        "all_tokens = []\n",
        "for sentence in tqdm(train.sentence.values):\n",
        "    all_tokens.extend(tokenize(sentence))\n",
        "\n",
        "for sentence in tqdm(test.sentence.values):\n",
        "    all_tokens.extend(tokenize(sentence))\n"
      ]
    },
    {
      "cell_type": "code",
      "execution_count": 17,
      "metadata": {
        "colab": {
          "base_uri": "https://localhost:8080/"
        },
        "id": "vBKE6BKM-HfL",
        "outputId": "a8532047-ec79-445e-9ced-8f209eb57aa7"
      },
      "outputs": [
        {
          "data": {
            "text/plain": [
              "[(',', 23989),\n",
              " ('the', 17415),\n",
              " ('.', 12470),\n",
              " ('of', 11464),\n",
              " ('and', 9229),\n",
              " ('in', 6362),\n",
              " ('to', 6114),\n",
              " ('a', 5243),\n",
              " ('de', 3307),\n",
              " ('that', 2857),\n",
              " ('on', 2661),\n",
              " ('for', 2506),\n",
              " ('is', 2480),\n",
              " ('(', 2217),\n",
              " (')', 2130),\n",
              " ('la', 1853),\n",
              " ('que', 1838),\n",
              " ('with', 1826),\n",
              " (';', 1698),\n",
              " ('by', 1425),\n",
              " ('as', 1418),\n",
              " ('e', 1362),\n",
              " ('be', 1340),\n",
              " ('I', 1299),\n",
              " ('The', 1217),\n",
              " ('are', 1203),\n",
              " ('[', 1182),\n",
              " (']', 1174),\n",
              " ('this', 1167),\n",
              " ('have', 1151),\n",
              " (':', 1042),\n",
              " ('you', 992),\n",
              " ('which', 973),\n",
              " ('not', 959),\n",
              " ('it', 952),\n",
              " ('was', 943),\n",
              " ('from', 933),\n",
              " ('en', 899),\n",
              " ('at', 876),\n",
              " ('will', 862),\n",
              " ('o', 834),\n",
              " ('i', 825),\n",
              " ('an', 811),\n",
              " ('we', 809),\n",
              " ('el', 800),\n",
              " ('un', 773),\n",
              " ('has', 743),\n",
              " ('or', 722),\n",
              " ('all', 719),\n",
              " ('their', 709),\n",
              " ('les', 698),\n",
              " ('European', 693),\n",
              " ('y', 662),\n",
              " ('his', 648),\n",
              " ('und', 648),\n",
              " ('no', 641),\n",
              " ('di', 639),\n",
              " ('der', 621),\n",
              " ('-', 618),\n",
              " ('die', 609),\n",
              " ('``', 596),\n",
              " ('your', 595),\n",
              " (\"''\", 594),\n",
              " ('they', 583),\n",
              " ('who', 583),\n",
              " ('were', 581),\n",
              " ('et', 553),\n",
              " ('shall', 539),\n",
              " ('but', 527),\n",
              " ('do', 527),\n",
              " ('per', 524),\n",
              " (\"'\", 515),\n",
              " ('una', 515),\n",
              " ('been', 514),\n",
              " ('se', 511),\n",
              " ('In', 502),\n",
              " ('them', 499),\n",
              " (\"'s\", 498),\n",
              " ('also', 495),\n",
              " ('he', 486),\n",
              " ('al', 479),\n",
              " ('del', 461),\n",
              " ('Yahweh', 456),\n",
              " ('mice', 447),\n",
              " ('Mr', 435),\n",
              " ('che', 435),\n",
              " ('para', 430),\n",
              " ('des', 427),\n",
              " ('these', 416),\n",
              " ('its', 415),\n",
              " ('da', 415),\n",
              " ('cells', 414),\n",
              " ('our', 411),\n",
              " ('my', 399),\n",
              " ('ang', 395),\n",
              " ('es', 387),\n",
              " ('le', 378),\n",
              " ('can', 375),\n",
              " ('sa', 373),\n",
              " ('out', 364)]"
            ]
          },
          "execution_count": 17,
          "metadata": {},
          "output_type": "execute_result"
        }
      ],
      "source": [
        "counts = Counter(all_tokens)\n",
        "counts.most_common(100)"
      ]
    },
    {
      "cell_type": "markdown",
      "metadata": {
        "id": "Dh5Cu_-A-HfM"
      },
      "source": [
        "## Evaluation Metric\n",
        "\n",
        "Custom lexical complexity prediction metric consisting in:\n",
        "- `(max(0, R^2) + abs(pearson))/2`\n",
        "- R^2 - is the standard regression metric, here we do not allow negative values\n",
        "- pearson - is the pearson correlation\n",
        "\n",
        "A good sollution would:\n",
        "- have values that are close to the actual lexical complexity scores\n",
        "- have values that are correlated well to the complexity scores\n",
        "- one can obtain a good correlation with values that are outside of the range or inversely proportional, we don't care as much\n",
        "- a constant predictor will get 0, pearson will be NaN\n"
      ]
    },
    {
      "cell_type": "code",
      "execution_count": 18,
      "metadata": {
        "id": "4JtRih3w-HfM"
      },
      "outputs": [],
      "source": [
        "from sklearn.metrics import mean_absolute_error, mean_squared_error, r2_score\n",
        "from scipy.stats import pearsonr, spearmanr\n",
        "import numpy as np\n",
        "\n",
        "import warnings\n",
        "warnings.filterwarnings(\"ignore\", message=\"An input array is constant; the correlation coefficient is not defined.\")\n",
        "\n",
        "\n",
        "def pearson_r2(preds, y_true):\n",
        "    \"\"\"\n",
        "    Custom lexical complexity prediction metric consisting in:\n",
        "    - `(max(0, R^2) + abs(pearson))/2`\n",
        "    - R^2 - is the standard regression metric, here we do not allow negative values\n",
        "    - pearson - is the pearson correlation\n",
        "\n",
        "    A good sollution would:\n",
        "    - have values that are close to the actual lexical complexity scores\n",
        "    - have values that are correlated well to the complexity scores\n",
        "    - one can obtain a good correlation with values that are outside of the range or inversely proportional, we don't care as much\n",
        "    - a constant predictor will get 0, pearson will be NaN\n",
        "\n",
        "    \"\"\"\n",
        "    r2 = r2_score(y_true, preds, sample_weight=None, force_finite=True)\n",
        "    r2 = max(0, r2)\n",
        "    pears = pearsonr(y_true, preds)[0]\n",
        "    pears = np.abs(np.nan_to_num(pears, 0))\n",
        "    return (pears + r2)/2\n",
        "\n",
        "def evaluate(predictions, y_true):\n",
        "    cust = pearson_r2(predictions, y_true)\n",
        "    return {'r2_pearson': cust}\n"
      ]
    },
    {
      "cell_type": "markdown",
      "metadata": {
        "id": "sMkpRMBi-HfN"
      },
      "source": [
        "### TODO:\n",
        "- add more metrics\n",
        "- create functions to evaluate individual metrics\n"
      ]
    },
    {
      "cell_type": "markdown",
      "metadata": {
        "id": "1hzkdScV-HfN"
      },
      "source": [
        "## Train regression model and predict"
      ]
    },
    {
      "cell_type": "code",
      "execution_count": 19,
      "metadata": {
        "colab": {
          "base_uri": "https://localhost:8080/"
        },
        "id": "AiJ6BUi0-HfO",
        "outputId": "4b813d23-2374-4de5-abc0-5249af3270e7"
      },
      "outputs": [
        {
          "name": "stdout",
          "output_type": "stream",
          "text": [
            "Requirement already satisfied: wordfreq[cjk] in c:\\python311\\lib\\site-packages (3.1.1)\n",
            "Requirement already satisfied: ftfy>=6.1 in c:\\python311\\lib\\site-packages (from wordfreq[cjk]) (6.2.0)\n",
            "Requirement already satisfied: ipadic<2.0.0,>=1.0.0 in c:\\python311\\lib\\site-packages (from wordfreq[cjk]) (1.0.0)\n",
            "Requirement already satisfied: jieba>=0.42 in c:\\python311\\lib\\site-packages (from wordfreq[cjk]) (0.42.1)\n",
            "Requirement already satisfied: langcodes>=3.0 in c:\\python311\\lib\\site-packages (from wordfreq[cjk]) (3.4.0)\n",
            "Requirement already satisfied: locate<2.0.0,>=1.1.1 in c:\\python311\\lib\\site-packages (from wordfreq[cjk]) (1.1.1)\n",
            "Requirement already satisfied: mecab-ko-dic<2.0.0,>=1.0.0 in c:\\python311\\lib\\site-packages (from wordfreq[cjk]) (1.0.0)\n",
            "Requirement already satisfied: mecab-python3<2.0.0,>=1.0.5 in c:\\python311\\lib\\site-packages (from wordfreq[cjk]) (1.0.9)\n",
            "Requirement already satisfied: msgpack<2.0.0,>=1.0.7 in c:\\python311\\lib\\site-packages (from wordfreq[cjk]) (1.0.8)\n",
            "Requirement already satisfied: regex>=2023.10.3 in c:\\python311\\lib\\site-packages (from wordfreq[cjk]) (2024.5.15)\n",
            "Requirement already satisfied: wcwidth<0.3.0,>=0.2.12 in c:\\python311\\lib\\site-packages (from ftfy>=6.1->wordfreq[cjk]) (0.2.13)\n",
            "Requirement already satisfied: language-data>=1.2 in c:\\python311\\lib\\site-packages (from langcodes>=3.0->wordfreq[cjk]) (1.2.0)\n",
            "Requirement already satisfied: marisa-trie>=0.7.7 in c:\\python311\\lib\\site-packages (from language-data>=1.2->langcodes>=3.0->wordfreq[cjk]) (1.1.1)\n",
            "Requirement already satisfied: setuptools in c:\\python311\\lib\\site-packages (from marisa-trie>=0.7.7->language-data>=1.2->langcodes>=3.0->wordfreq[cjk]) (65.5.0)\n"
          ]
        },
        {
          "name": "stderr",
          "output_type": "stream",
          "text": [
            "\n",
            "[notice] A new release of pip available: 22.3.1 -> 24.0\n",
            "[notice] To update, run: python.exe -m pip install --upgrade pip\n"
          ]
        }
      ],
      "source": [
        "! pip install wordfreq[cjk]\n"
      ]
    },
    {
      "cell_type": "code",
      "execution_count": 20,
      "metadata": {
        "id": "ROUBjqCn-HfO"
      },
      "outputs": [
        {
          "name": "stdout",
          "output_type": "stream",
          "text": [
            "Extracting entity labels for catalan (ca)...\n",
            "Extracting entity labels for german (de)...\n",
            "Extracting entity labels for english (en)...\n",
            "Extracting entity labels for spanish (es)...\n",
            "No spaCy model found for filipino (fil)\n",
            "\n",
            "Extracting entity labels for french (fr)...\n",
            "Extracting entity labels for italian (it)...\n",
            "Extracting entity labels for japanese (ja)...\n",
            "Extracting entity labels for portuguese (pt)...\n",
            "No spaCy model found for sinhala (si)\n",
            "\n",
            "Comprehensive list of all unique entity labels:\n",
            "['CARDINAL', 'DATE', 'EVENT', 'FAC', 'GPE', 'LANGUAGE', 'LAW', 'LOC', 'MISC', 'MONEY', 'MOVEMENT', 'NORP', 'ORDINAL', 'ORG', 'PER', 'PERCENT', 'PERSON', 'PET_NAME', 'PHONE', 'PRODUCT', 'QUANTITY', 'TIME', 'TITLE_AFFIX', 'WORK_OF_ART']\n"
          ]
        }
      ],
      "source": [
        "import spacy\n",
        "\n",
        "# Define the language codes and corresponding spaCy models\n",
        "lang_code = {\n",
        "    \"catalan\": \"ca\",\n",
        "    \"german\": \"de\",\n",
        "    \"english\": \"en\",\n",
        "    \"spanish\": \"es\",\n",
        "    \"filipino\": \"fil\",\n",
        "    \"french\": \"fr\",\n",
        "    \"italian\": \"it\",\n",
        "    \"japanese\": \"ja\",\n",
        "    \"portuguese\": \"pt\",\n",
        "    \"sinhala\": \"si\"\n",
        "}\n",
        "\n",
        "spacy_models = {\n",
        "    \"ca\": \"ca_core_news_sm\",\n",
        "    \"de\": \"de_core_news_sm\",\n",
        "    \"en\": \"en_core_web_sm\",\n",
        "    \"es\": \"es_core_news_sm\",\n",
        "    \"fr\": \"fr_core_news_sm\",\n",
        "    \"it\": \"it_core_news_sm\",\n",
        "    \"ja\": \"ja_core_news_sm\",\n",
        "    \"pt\": \"pt_core_news_sm\",\n",
        "    # Note: Filipino and Sinhala may not have official spaCy models for NER\n",
        "}\n",
        "\n",
        "# Initialize a set to store all unique entity labels\n",
        "all_unique_labels = set()\n",
        "\n",
        "# Extract unique entity labels for each language\n",
        "for language, code in lang_code.items():\n",
        "    if code in spacy_models:\n",
        "        print(f\"Extracting entity labels for {language} ({code})...\")\n",
        "        try:\n",
        "            nlp = spacy.load(spacy_models[code])\n",
        "            labels = nlp.get_pipe(\"ner\").labels\n",
        "            all_unique_labels.update(labels)\n",
        "           # print(f\"Entity labels for {language} ({code}): {labels}\\n\")\n",
        "        except Exception as e:\n",
        "            print(f\"Could not load model for {language} ({code}): {e}\\n\")\n",
        "            \n",
        "    else:\n",
        "        print(f\"No spaCy model found for {language} ({code})\\n\")\n",
        "\n",
        "# Convert the set to a sorted list\n",
        "all_unique_labels_list = sorted(list(all_unique_labels))\n",
        "\n",
        "print(\"Comprehensive list of all unique entity labels:\")\n",
        "print(all_unique_labels_list)\n"
      ]
    },
    {
      "cell_type": "code",
      "execution_count": 21,
      "metadata": {},
      "outputs": [
        {
          "name": "stdout",
          "output_type": "stream",
          "text": [
            "['CARDINAL', 'DATE', 'EVENT', 'FAC', 'GPE', 'LANGUAGE', 'LAW', 'LOC', 'MISC', 'MONEY', 'MOVEMENT', 'NORP', 'ORDINAL', 'ORG', 'PER', 'PERCENT', 'PERSON', 'PET_NAME', 'PHONE', 'PRODUCT', 'QUANTITY', 'TIME', 'TITLE_AFFIX', 'WORK_OF_ART']\n"
          ]
        }
      ],
      "source": [
        "print(all_unique_labels_list)"
      ]
    },
    {
      "cell_type": "code",
      "execution_count": 48,
      "metadata": {},
      "outputs": [],
      "source": [
        "nlp_models = {\n",
        "    \"catalan\": spacy.load('es_core_news_lg'),\n",
        "    \"german\": spacy.load('de_core_news_lg'),\n",
        "    \"english\": spacy.load('en_core_web_lg'),\n",
        "    \"spanish\": spacy.load('es_core_news_lg'),\n",
        "    \"filipino\": spacy.load('en_core_web_lg'),\n",
        "    \"french\": spacy.load('fr_core_news_lg'),\n",
        "    \"italian\": spacy.load('it_core_news_lg'),\n",
        "    \"japanese\": spacy.load('en_core_web_lg'),\n",
        "    \"portuguese\": spacy.load('pt_core_news_lg'),\n",
        "    \"sinhala\": spacy.load('en_core_web_lg')\n",
        "}"
      ]
    },
    {
      "cell_type": "code",
      "execution_count": 61,
      "metadata": {},
      "outputs": [],
      "source": [
        "\n",
        "def get_wd_len(word):\n",
        "    \"\"\"Basic function to return length\n",
        "    \"\"\"\n",
        "    return len(word)\n",
        "\n",
        "from wordfreq import word_frequency\n",
        "import spacy\n",
        "import string\n",
        "from textblob import TextBlob\n",
        "from sklearn.feature_extraction.text import TfidfVectorizer\n",
        "# nltk.download('cmudict')\n",
        "from nltk.corpus import cmudict\n",
        "from wordfreq import zipf_frequency\n",
        "\n",
        "d = cmudict.dict()\n",
        "\n",
        "#nlp = spacy.load('en_core_web_sm')\n",
        "\n",
        "# Define helper functions\n",
        "def pos_to_numeric(pos):\n",
        "    return spacy.explain(pos)\n",
        "\n",
        "def dep_to_numeric(dep):\n",
        "    return spacy.explain(dep)\n",
        "\n",
        "def translate_to_english(text, source_lang):\n",
        "    if source_lang == 'en':\n",
        "        return text\n",
        "    try:\n",
        "        # Check if the source language is supported\n",
        "        if source_lang in GoogleTranslator.get_supported_languages(as_dict=True).values():\n",
        "            translated_text = GoogleTranslator(source=source_lang, target='en').translate(text)\n",
        "        else:\n",
        "            #print(f\"Translation not supported for language: {source_lang}. Using original text.\")\n",
        "            translated_text = text  # Fallback to original text if language is not supported\n",
        "    except Exception as e:\n",
        "        #print(f\"Translation error: {e}\")\n",
        "        translated_text = text  # Fallback to original text in case of error\n",
        "    return translated_text\n",
        "\n",
        "\n",
        "def clean_word(word):\n",
        "    # Remove punctuation from the word\n",
        "    translator = str.maketrans('', '', string.punctuation)\n",
        "    return word.translate(translator)\n",
        "\n",
        "def get_spacy_embedding(word, sentence):\n",
        "    # Process the sentence with spacy\n",
        "    doc = nlp(sentence)\n",
        "\n",
        "\n",
        "    # Normalize and clean the word\n",
        "    normalized_word = clean_word(word.lower())\n",
        "\n",
        "    # Find the token corresponding to the cleaned word\n",
        "    for token in doc:\n",
        "        # Clean and normalize each token in the sentence\n",
        "        cleaned_token = clean_word(token.text.lower())\n",
        "        if normalized_word in cleaned_token or cleaned_token in normalized_word:\n",
        "            return token.vector\n",
        "\n",
        "    # Raise an error if the word is not found in the sentence\n",
        "    raise ValueError(f\"The word '{word}' is not found in the sentence '{sentence}'.\")\n",
        "\n",
        "\n",
        "\n",
        "def get_frequency(word, language):\n",
        "    \"\"\"Basic function to return frequency from external corpus.\n",
        "    \"\"\"\n",
        "    word_freq = word_frequency(word, lang_code[language])\n",
        "    # TODO: make function to return frequency from counter\n",
        "    return word_freq\n",
        "\n",
        "from nltk.corpus import wordnet as wn\n",
        "\n",
        "def get_synsets_count(word):\n",
        "     synsets_count = len(wn.synsets(word))\n",
        "     return synsets_count\n",
        "\n",
        "def get_synsets_depth(word):\n",
        "    synset_depth = max([synset.min_depth() for synset in wn.synsets(word)], default=0)\n",
        "    return synset_depth\n",
        "\n",
        "def get_hypernyms_count(word):\n",
        "    hypernyms_count = sum([len(synset.hypernyms()) for synset in wn.synsets(word)])\n",
        "    return hypernyms_count\n",
        "\n",
        "def get_dependency_tree_depth(doc):\n",
        "    def get_depth(token):\n",
        "        if not list(token.children):\n",
        "            return 1\n",
        "        else:\n",
        "            return 1 + max(get_depth(child) for child in token.children)\n",
        "    return max(get_depth(sent.root) for sent in doc.sents)\n",
        "\n",
        "def get_avg_word_length(sentence):\n",
        "    words = sentence.split()\n",
        "    return sum(len(word) for word in words) / len(words)\n",
        "\n",
        "def get_num_named_entities(doc):\n",
        "    return len(doc.ents)\n",
        "\n",
        "def get_sentence_word_count(sentence):\n",
        "    return len(sentence.split())\n",
        "\n",
        "def get_sentence_type(sentence):\n",
        "    if sentence.endswith('?'):\n",
        "        return 1  # Interrogative\n",
        "    elif sentence.endswith('!'):\n",
        "        return 2  # Exclamatory\n",
        "    elif sentence.endswith('.'):\n",
        "        return 0  # Declarative\n",
        "    else:\n",
        "        return 3  # Imperative\n",
        "\n",
        "def get_tfidf_score(word, sentence, corpus):\n",
        "    vectorizer = TfidfVectorizer()\n",
        "    X = vectorizer.fit_transform(corpus)\n",
        "    tfidf_dict = dict(zip(vectorizer.get_feature_names_out(), X.toarray()[0]))\n",
        "    return tfidf_dict.get(word.lower(), 0)\n",
        "\n",
        "def get_named_entity_types_count(doc):\n",
        "    entity_types = set(ent.label_ for ent in doc.ents)\n",
        "    return len(entity_types)\n",
        "\n",
        "\n",
        "def get_longest_word_length(sentence):\n",
        "    words = sentence.split()\n",
        "    return max(len(word) for word in words)\n",
        "\n",
        "def get_syllable_count(word):\n",
        "    return textstat.syllable_count(word)\n",
        "\n",
        "# New Feature: Sentiment Analysis using TextBlob\n",
        "def get_sentiment_analysis(sentence):\n",
        "    blob = TextBlob(sentence)\n",
        "    return blob.sentiment.polarity, blob.sentiment.subjectivity\n",
        "\n",
        "def get_sentence_density(sentence):\n",
        "    \"\"\"Computes the density of the sentence using word frequencies.\"\"\"\n",
        "    words = sentence.split()\n",
        "    freq_sum = sum([word_frequency(word, 'en') for word in words])\n",
        "    return freq_sum / len(words)  # Average frequency\n",
        "\n",
        "# New Feature: Part of Speech (POS) Counts\n",
        "def get_pos_counts(doc):\n",
        "    pos_counts = doc.count_by(spacy.attrs.POS)\n",
        "    return {nlp.vocab.strings[k]: v for k, v in pos_counts.items()}\n",
        "\n",
        "# New Feature: Character N-Grams\n",
        "def get_char_ngrams(word, n=2):\n",
        "    ngrams = [word[i:i+n] for i in range(len(word)-n+1)]\n",
        "    return len(ngrams)\n",
        "\n",
        "# New Feature: Word Shape\n",
        "def get_word_shape(word):\n",
        "    if word.isupper():\n",
        "        return 3  # Uppercase\n",
        "    elif word.islower():\n",
        "        return 1  # Lowercase\n",
        "    elif word.istitle():\n",
        "        return 2  # Titlecase\n",
        "    else:\n",
        "        return 0  # Mixed case or other\n",
        "\n",
        "\n",
        "# New Feature: Root Distance\n",
        "def get_root_distance(word, sentence,doc):\n",
        "    \n",
        "    for token in doc:\n",
        "        if clean_word(token.text.lower()) == clean_word(word.lower()):\n",
        "            return len(list(token.ancestors))\n",
        "    return -1  # Not found\n",
        "\n",
        "\n",
        "\n",
        "\n",
        "from sklearn.preprocessing import LabelEncoder\n",
        "label_encoder = LabelEncoder()\n",
        "label_encoder.fit(all_unique_labels_list)\n",
        "\n",
        "# New Feature: Named Entity Label\n",
        "def get_named_entity_label(word, doc):\n",
        "    \"\"\"Gets the named entity label for the word if it is part of a named entity.\"\"\"\n",
        "    for ent in doc.ents:\n",
        "        if word in ent.text:\n",
        "            return label_encoder.transform([ent.label_])[0]\n",
        "    return -1  # 'O' for Outside any named entity\n",
        "\n",
        "# New Feature: Capitalization Ratio\n",
        "def get_capitalization_ratio(word):\n",
        "    \"\"\"Calculates the ratio of capital letters to total letters in the word.\"\"\"\n",
        "    num_caps = sum(1 for char in word if char.isupper())\n",
        "    return num_caps / len(word)\n",
        "\n",
        "def get_concreteness_from_wordnet(word):\n",
        "    synsets = wn.synsets(word)\n",
        "    if not synsets:\n",
        "        return 0\n",
        "    depth = np.mean([synset.min_depth() for synset in synsets])\n",
        "    hypernyms_count = np.mean([len(synset.hypernyms()) for synset in synsets])\n",
        "    # Higher depth and hypernyms_count mean more abstract; hence, we use 1/(1 + depth + hypernyms_count)\n",
        "    return 1 / (1 + depth + hypernyms_count)\n",
        "\n",
        "#De aici sunt feature-urile noi care au fost adaugate\n",
        "#de la care era 0.457\n",
        "\n",
        "def get_stopword_ratio(doc):\n",
        "    stopwords = spacy.lang.en.stop_words.STOP_WORDS\n",
        "    num_stopwords = sum(1 for token in doc if token.text.lower() in stopwords)\n",
        "    return num_stopwords / len(doc)\n",
        "\n",
        "def get_punctuation_count(sentence):\n",
        "    return sum(1 for char in sentence if char in string.punctuation)\n",
        "\n",
        "\n",
        "# def get_word_shape_pattern(word):\n",
        "#     shape_pattern = ''\n",
        "#     for char in word:\n",
        "#         if char.isupper():\n",
        "#             shape_pattern += 'X'\n",
        "#         elif char.islower():\n",
        "#             shape_pattern += 'x'\n",
        "#         elif char.isdigit():\n",
        "#             shape_pattern += 'd'\n",
        "#         else:\n",
        "#             shape_pattern += 'p'\n",
        "#     return shape_pattern\n",
        "\n",
        "def get_lexical_diversity(sentence):\n",
        "    \"\"\"Calculate the lexical diversity of the sentence.\"\"\"\n",
        "    words = sentence.split()\n",
        "    unique_words = set(words)\n",
        "    return len(unique_words) / len(words)\n",
        "\n",
        "def get_in_domain_frequency(word, corpus):\n",
        "    \"\"\"Calculate the TF-IDF score of the word in the specified domain corpus.\"\"\"\n",
        "    vectorizer = TfidfVectorizer()\n",
        "    X = vectorizer.fit_transform(corpus)\n",
        "    tfidf_dict = dict(zip(vectorizer.get_feature_names_out(), X.toarray()[0]))\n",
        "    return tfidf_dict.get(word.lower(), 0)\n",
        "\n",
        "def get_num_derived_forms(word):\n",
        "    \"\"\"Get the number of derived forms of the word.\"\"\"\n",
        "    derived_forms = [lemma.name() for synset in wn.synsets(word) for lemma in synset.lemmas() if lemma.derivationally_related_forms()]\n",
        "    return len(set(derived_forms))\n",
        "\n",
        "def get_phoneme_count(word):\n",
        "    \"\"\"Get the number of phonemes in the word.\"\"\"\n",
        "    if word.lower() in d:\n",
        "        return len([phoneme for phoneme in d[word.lower()][0] if phoneme.isalpha()])\n",
        "    return 0\n",
        "\n",
        "def get_reading_time(sentence):\n",
        "    \"\"\"Estimate reading time in seconds for the sentence.\"\"\"\n",
        "    words_per_minute = 200  # Average reading speed\n",
        "    words = len(sentence.split())\n",
        "    return (words / words_per_minute) * 60\n",
        "\n",
        "\n",
        "def get_subtitle_frequency(word):\n",
        "    \"\"\"Get the frequency of the word in a subtitle corpus.\"\"\"\n",
        "    return zipf_frequency(word, 'en')\n",
        "\n",
        "\n",
        "from nltk.corpus import wordnet as wn\n",
        "\n",
        "def get_hyponyms_count(word):\n",
        "    \"\"\"Get the number of hyponyms for the word.\"\"\"\n",
        "    return sum(len(synset.hyponyms()) for synset in wn.synsets(word))\n",
        "\n",
        "from deep_translator import GoogleTranslator\n",
        "\n",
        "import textstat\n",
        "\n",
        "def get_readability_features(sentence):\n",
        "    features = []\n",
        "    features.append(textstat.flesch_reading_ease(sentence))\n",
        "    features.append(textstat.smog_index(sentence))\n",
        "    features.append(textstat.flesch_kincaid_grade(sentence))\n",
        "    features.append(textstat.coleman_liau_index(sentence))\n",
        "    features.append(textstat.automated_readability_index(sentence))\n",
        "    features.append(textstat.dale_chall_readability_score(sentence))\n",
        "    features.append(textstat.difficult_words(sentence))\n",
        "    features.append(textstat.linsear_write_formula(sentence))\n",
        "    features.append(textstat.gunning_fog(sentence))\n",
        "    return features\n",
        "\n",
        "from sklearn.feature_extraction.text import TfidfVectorizer\n",
        "\n",
        "def count_vowels(word):\n",
        "    vowels = \"aeiouAEIOU\"\n",
        "    return sum(1 for char in word if char in vowels)\n",
        "\n",
        "def count_consonants(word):\n",
        "    consonants = \"bcdfghjklmnpqrstvwxyzBCDFGHJKLMNPQRSTVWXYZ\"\n",
        "    return sum(1 for char in word if char in consonants)\n",
        "\n",
        "from nltk import pos_tag\n",
        "from nltk.tokenize import word_tokenize\n",
        "from collections import Counter\n",
        "\n",
        "def get_pos_for_word(target_word, doc):\n",
        "    for token in doc:\n",
        "        if token.text == target_word:\n",
        "            return token.pos\n",
        "    return None \n",
        "\n",
        "def featurize_row(row):\n",
        "    word = row['word']\n",
        "    language = row['language']\n",
        "    sentence = row['sentence']\n",
        "    nlp = nlp_models[language]\n",
        "    doc = nlp(sentence)\n",
        "    all_features = []\n",
        "\n",
        "    # sentence_length = len(doc)\n",
        "    # all_features.append(sentence_length)\n",
        "\n",
        "    all_features.append(get_wd_len(word))\n",
        "    all_features.append(count_vowels(word))\n",
        "    all_features.append(count_consonants(word))\n",
        "    \n",
        "    all_features.append(get_pos_for_word(word, doc))\n",
        "    \n",
        "    all_features.append(get_frequency(word, language))\n",
        "    all_features.append(get_synsets_count(word))\n",
        "    all_features.append(get_synsets_depth(word))\n",
        "    all_features.append(get_hypernyms_count(word))\n",
        "    all_features.append(get_hyponyms_count(word))\n",
        "    all_features.append(get_root_distance(word, sentence,doc))\n",
        "\n",
        "    #all_features.append(get_named_entity_label(word, doc))  # Named Entity Label\n",
        "    #all_features.extend(get_readability_features(sentence))\n",
        "    all_features.append(get_syllable_count(word))\n",
        "    all_features.append(get_capitalization_ratio(word))  # Capitalization Ratio\n",
        "\n",
        "    \n",
        "    \n",
        "#----------------------------------------------------- tresh\n",
        "    # all_features.append(get_concreteness_from_wordnet(word))  # Word Concreteness\n",
        "    # all_features.append(get_num_derived_forms(word))  # Number of Derived Forms of the Word\n",
        "    # all_features.append(get_phoneme_count(word))  # Add this in featurize_row function\n",
        "    # sentiment = doc.sentiment\n",
        "    # all_features.append(sentiment) \n",
        "    #all_features.append(get_word_shape(word))\n",
        "\n",
        "    \n",
        "    #all_features.append(get_sentence_density(sentence))  # Sentence Density\n",
        "    #all_features.append(get_special_char_count(word))  # Special Character Count\n",
        "    # all_features.append(get_in_domain_frequency(word,corpus))  # TF-IDF score in the specified domain corpus\n",
        "    # all_features.append(get_lexical_diversity(sentence))  # Lexical diversity (unique words/total words)\n",
        "    #all_features.append(get_reading_time(sentence))  # Add this in featurize_row function\n",
        "    #all_features.append(get_subtitle_frequency(word))  # Add this in featurize_row function\n",
        "    # pos_counts = get_pos_counts(doc)\n",
        "    # all_features.append(pos_counts.get('NOUN', 0))\n",
        "    # all_features.append(pos_counts.get('VERB', 0))\n",
        "    # all_features.append(pos_counts.get('ADJ', 0))\n",
        "    # all_features.append(pos_counts.get('ADV', 0))\n",
        "    # all_features.append(pos_counts.get('PRON', 0))\n",
        "\n",
        "    #all_features.append(get_char_ngrams(word, 2))  # Bigrams\n",
        "    #all_features.append(get_char_ngrams(word, 3))  # Trigrams\n",
        "    # all_features.append(get_sentence_type(sentence))\n",
        "    # all_features.append(get_longest_word_length(sentence))\n",
        "\n",
        "\n",
        "\n",
        "    # avg_sent_vector = np.mean([token.vector for token in doc], axis=0)\n",
        "    # all_features.extend(avg_sent_vector)\n",
        "\n",
        "    \n",
        "\n",
        "    # num_dependents = -1\n",
        "\n",
        "    # normalized_word = clean_word(word.lower())\n",
        "    # for token in doc:\n",
        "    #     cleaned_token = clean_word(token.text.lower())\n",
        "    #     if normalized_word in cleaned_token or cleaned_token in normalized_word:\n",
        "    #         num_dependents = len(list(token.children))\n",
        "    #         break\n",
        "    # all_features.append(num_dependents)\n",
        "\n",
        "    \n",
        "       \n",
        "\n",
        "    \n",
        "    # Add syllable count of the word\n",
        "    \n",
        "\n",
        "    # polarity, subjectivity = get_sentiment_analysis(sentence)\n",
        "    # all_features.append(polarity)\n",
        "    # all_features.append(subjectivity)\n",
        "\n",
        "    # Add new feature: Word Shape\n",
        "    \n",
        "\n",
        "\n",
        "    # Add new feature: Root Distance\n",
        "   \n",
        "\n",
        "    return np.array(all_features)\n",
        "\n",
        "def featurize_df(df):\n",
        "    sample_features = featurize_row(df.iloc[0])\n",
        "    nr_of_features = len(sample_features)\n",
        "    nr_of_examples = len(df)\n",
        "    features = np.zeros((nr_of_examples, nr_of_features))\n",
        "    \n",
        "    for index, row in tqdm(df.iterrows(), total=len(df)):\n",
        "        row_ftrs = featurize_row(row)\n",
        "        features[index, :len(row_ftrs)] = row_ftrs\n",
        "    return features"
      ]
    },
    {
      "cell_type": "code",
      "execution_count": 62,
      "metadata": {
        "colab": {
          "base_uri": "https://localhost:8080/"
        },
        "id": "9JHzzrj3-HfP",
        "outputId": "a60fa1e1-6f84-4e82-d133-58aaa3d58160"
      },
      "outputs": [
        {
          "name": "stderr",
          "output_type": "stream",
          "text": [
            "  0%|          | 0/8633 [00:00<?, ?it/s]"
          ]
        },
        {
          "name": "stderr",
          "output_type": "stream",
          "text": [
            "100%|██████████| 8633/8633 [01:50<00:00, 77.85it/s]\n",
            "100%|██████████| 5623/5623 [01:07<00:00, 83.84it/s] \n"
          ]
        }
      ],
      "source": [
        "X_train = featurize_df(train)\n",
        "\n",
        "y_train = train.complexity.values\n",
        "\n",
        "X_test = featurize_df(test)\n",
        "\n",
        "\n",
        "\n"
      ]
    },
    {
      "cell_type": "code",
      "execution_count": 63,
      "metadata": {
        "colab": {
          "base_uri": "https://localhost:8080/"
        },
        "id": "HuoSDKy0-HfQ",
        "outputId": "c730c61f-cdc6-44e3-81ab-ae167acbbbff"
      },
      "outputs": [
        {
          "name": "stdout",
          "output_type": "stream",
          "text": [
            "{'r2_pearson': 0.8353818211924957}\n"
          ]
        }
      ],
      "source": [
        "from sklearn.neighbors import KNeighborsRegressor\n",
        "from sklearn.ensemble import RandomForestRegressor\n",
        "\n",
        "model = RandomForestRegressor(random_state=0, bootstrap=True, max_depth=16, max_features='sqrt', min_samples_leaf=2, min_samples_split=10, n_estimators=512)\n",
        "model.fit(X_train, y_train)\n",
        "train_predictions = model.predict(X_train)\n",
        "\n",
        "print(evaluate(train_predictions, y_train))\n",
        "#r2 = r2_score(train_predictions,y_train )\n",
        "#pearson_corr, _ = pearsonr( train_predictions,y_train)\n",
        "#print(f'Metric: {metric}')\n",
        "\n",
        "\n",
        "#print(f'Pearson Correlation: {r2}')\n",
        "\n",
        "\n"
      ]
    },
    {
      "cell_type": "code",
      "execution_count": 64,
      "metadata": {},
      "outputs": [
        {
          "name": "stdout",
          "output_type": "stream",
          "text": [
            "12\n",
            "21\n"
          ]
        },
        {
          "ename": "IndexError",
          "evalue": "list index out of range",
          "output_type": "error",
          "traceback": [
            "\u001b[1;31m---------------------------------------------------------------------------\u001b[0m",
            "\u001b[1;31mIndexError\u001b[0m                                Traceback (most recent call last)",
            "Cell \u001b[1;32mIn[64], line 7\u001b[0m\n\u001b[0;32m      5\u001b[0m \u001b[38;5;28mprint\u001b[39m(\u001b[38;5;28mlen\u001b[39m(lbls))\n\u001b[0;32m      6\u001b[0m \u001b[38;5;28mprint\u001b[39m(\u001b[38;5;28mlen\u001b[39m(indices))\n\u001b[1;32m----> 7\u001b[0m rows \u001b[38;5;241m=\u001b[39m \u001b[43m[\u001b[49m\u001b[43m(\u001b[49m\u001b[43mlbls\u001b[49m\u001b[43m[\u001b[49m\u001b[43mi\u001b[49m\u001b[43m]\u001b[49m\u001b[43m,\u001b[49m\u001b[43mimp\u001b[49m\u001b[43m[\u001b[49m\u001b[43mi\u001b[49m\u001b[43m]\u001b[49m\u001b[43m)\u001b[49m\u001b[43m \u001b[49m\u001b[38;5;28;43;01mfor\u001b[39;49;00m\u001b[43m \u001b[49m\u001b[43mi\u001b[49m\u001b[43m \u001b[49m\u001b[38;5;129;43;01min\u001b[39;49;00m\u001b[43m \u001b[49m\u001b[43mindices\u001b[49m\u001b[43m]\u001b[49m\n\u001b[0;32m      9\u001b[0m \u001b[38;5;28;01mfor\u001b[39;00m (lbl, i) \u001b[38;5;129;01min\u001b[39;00m rows:\n\u001b[0;32m     10\u001b[0m     \u001b[38;5;28mprint\u001b[39m(lbl \u001b[38;5;241m+\u001b[39m \u001b[38;5;124m\"\u001b[39m\u001b[38;5;124m: \u001b[39m\u001b[38;5;124m\"\u001b[39m \u001b[38;5;241m+\u001b[39m \u001b[38;5;28mstr\u001b[39m(i))\n",
            "Cell \u001b[1;32mIn[64], line 7\u001b[0m, in \u001b[0;36m<listcomp>\u001b[1;34m(.0)\u001b[0m\n\u001b[0;32m      5\u001b[0m \u001b[38;5;28mprint\u001b[39m(\u001b[38;5;28mlen\u001b[39m(lbls))\n\u001b[0;32m      6\u001b[0m \u001b[38;5;28mprint\u001b[39m(\u001b[38;5;28mlen\u001b[39m(indices))\n\u001b[1;32m----> 7\u001b[0m rows \u001b[38;5;241m=\u001b[39m [(\u001b[43mlbls\u001b[49m\u001b[43m[\u001b[49m\u001b[43mi\u001b[49m\u001b[43m]\u001b[49m,imp[i]) \u001b[38;5;28;01mfor\u001b[39;00m i \u001b[38;5;129;01min\u001b[39;00m indices]\n\u001b[0;32m      9\u001b[0m \u001b[38;5;28;01mfor\u001b[39;00m (lbl, i) \u001b[38;5;129;01min\u001b[39;00m rows:\n\u001b[0;32m     10\u001b[0m     \u001b[38;5;28mprint\u001b[39m(lbl \u001b[38;5;241m+\u001b[39m \u001b[38;5;124m\"\u001b[39m\u001b[38;5;124m: \u001b[39m\u001b[38;5;124m\"\u001b[39m \u001b[38;5;241m+\u001b[39m \u001b[38;5;28mstr\u001b[39m(i))\n",
            "\u001b[1;31mIndexError\u001b[0m: list index out of range"
          ]
        }
      ],
      "source": [
        "imp = model.feature_importances_\n",
        "lbls = ['word_length', 'vowels', 'consonants', 'pos', 'frequency', 'synsets_count', 'synsets_depth', 'hypernyms_count', 'hyponyms_count', 'root_distance', 'syllable_count', 'capitalization_ratio']\n",
        "\n",
        "indices = np.argsort(imp)[::-1]\n",
        "print(len(lbls))\n",
        "print(len(indices))\n",
        "rows = [(lbls[i],imp[i]) for i in indices]\n",
        "\n",
        "for (lbl, i) in rows:\n",
        "    print(lbl + \": \" + str(i))"
      ]
    },
    {
      "cell_type": "code",
      "execution_count": 66,
      "metadata": {
        "id": "_161EQtI-HfQ"
      },
      "outputs": [
        {
          "data": {
            "image/png": "[encoded data removed]",
            "text/plain": [
              "<Figure size 640x480 with 1 Axes>"
            ]
          },
          "metadata": {},
          "output_type": "display_data"
        },
        {
          "name": "stdout",
          "output_type": "stream",
          "text": [
            "(5623, 21)\n"
          ]
        }
      ],
      "source": [
        "predictions = model.predict(X_test)\n",
        "\n",
        "#predictions = model.predict(X_train)\n",
        "# pretty low, eh?\n",
        "train['complexity'].plot(kind='hist', bins=20, title='complexity')\n",
        "plt.gca().spines[['top', 'right',]].set_visible(False)\n",
        "\n",
        "plt.hist(predictions, bins=20, color=\"red\")\n",
        "plt.show()\n",
        "\n",
        "print(X_test.shape)\n",
        "\n",
        "submission = pd.DataFrame({'cur_id': test.cur_id.values, 'complexity': predictions})\n",
        "submission.to_csv('submission.csv', index=False)"
      ]
    },
    {
      "cell_type": "markdown",
      "metadata": {
        "id": "WnQOJUkZ-HfR"
      },
      "source": [
        "### TODO\n",
        "- implement more features, use external corpora\n",
        "- try wordfreq library, which languages does it have?\n",
        "- do a train-valid-test split\n",
        "- evaluate each individual feature against the true labels\n",
        "- introduce more features, try to discover which ones help and which ones do not help the predictor\n",
        "- train a separate model on each language individually and predict on separate languages\n",
        "- measure individual evaluation such as pearsonr and r2 metric\n",
        "- measure correlations per individual language, check which language is worst\n",
        "- use plotly to generate scatter plots of your featurized data (if more than 3 features, use [PCA](https://scikit-learn.org/stable/modules/generated/sklearn.decomposition.PCA.html) to reduce the dimensionality of the data\n",
        "- test different models that you are familiar with: KNN, NaiveBayes, LogisticRegression, clustering, SVM, LinearRegression; beware this is a regression task, not a classification task\n"
      ]
    }
  ],
  "metadata": {
    "colab": {
      "provenance": []
    },
    "kaggle": {
      "accelerator": "none",
      "dataSources": [
        {
          "databundleVersionId": 8526095,
          "sourceId": 77624,
          "sourceType": "competition"
        }
      ],
      "dockerImageVersionId": 30698,
      "isGpuEnabled": false,
      "isInternetEnabled": true,
      "language": "python",
      "sourceType": "notebook"
    },
    "kernelspec": {
      "display_name": "Python 3 (ipykernel)",
      "language": "python",
      "name": "python3"
    },
    "language_info": {
      "codemirror_mode": {
        "name": "ipython",
        "version": 3
      },
      "file_extension": ".py",
      "mimetype": "text/x-python",
      "name": "python",
      "nbconvert_exporter": "python",
      "pygments_lexer": "ipython3",
      "version": "3.11.2"
    }
  },
  "nbformat": 4,
  "nbformat_minor": 0
}
